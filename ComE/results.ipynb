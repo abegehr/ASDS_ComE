{
 "cells": [
  {
   "cell_type": "code",
   "execution_count": 1,
   "metadata": {},
   "outputs": [],
   "source": [
    "import numpy as np\n",
    "import utils.plot_utils as plot_utils\n",
    "import importlib"
   ]
  },
  {
   "cell_type": "code",
   "execution_count": 2,
   "metadata": {},
   "outputs": [
    {
     "data": {
      "text/plain": [
       "<module 'utils.plot_utils' from '/Users/anton/local/repos/asds/ComE/utils/plot_utils.py'>"
      ]
     },
     "execution_count": 2,
     "metadata": {},
     "output_type": "execute_result"
    }
   ],
   "source": [
    "# reload module\n",
    "importlib.reload(plot_utils)"
   ]
  },
  {
   "cell_type": "code",
   "execution_count": 3,
   "metadata": {},
   "outputs": [],
   "source": [
    "data_path = \"./data/\""
   ]
  },
  {
   "cell_type": "code",
   "execution_count": 4,
   "metadata": {},
   "outputs": [
    {
     "name": "stdout",
     "output_type": "stream",
     "text": [
      "labels:  [0 1 0 ... 0 0 0]\n",
      "labels.shape:  (2495,)\n"
     ]
    }
   ],
   "source": [
    "# load and format labels\n",
    "labels = np.loadtxt(data_path + \"twitter/twitter.labels\")\n",
    "labels = np.delete(labels, 0, axis=1)\n",
    "labels = labels.flatten().astype(int)\n",
    "\n",
    "print(\"labels: \", labels)\n",
    "print(\"labels.shape: \", labels.shape)"
   ]
  },
  {
   "cell_type": "code",
   "execution_count": 5,
   "metadata": {},
   "outputs": [
    {
     "name": "stdout",
     "output_type": "stream",
     "text": [
      "embedding.shape:  (2495, 128)\n"
     ]
    }
   ],
   "source": [
    "# load and format embedding\n",
    "embedding = np.loadtxt(data_path + \"twitter_alpha-0.1_beta-0.1_ws-10_neg-5_lr-0.025_icom-62_ind-62_k-7_ds-0.0.txt\")\n",
    "embedding = np.delete(embedding, 0, axis=1)\n",
    "\n",
    "print(\"embedding.shape: \", embedding.shape)"
   ]
  },
  {
   "cell_type": "code",
   "execution_count": 7,
   "metadata": {},
   "outputs": [],
   "source": [
    "# plot using plot_utils\n",
    "\n",
    "plot_utils.node_space_plot_2D(embedding, labels)"
   ]
  },
  {
   "cell_type": "code",
   "execution_count": null,
   "metadata": {},
   "outputs": [],
   "source": []
  }
 ],
 "metadata": {
  "kernelspec": {
   "display_name": "Python 3",
   "language": "python",
   "name": "python3"
  },
  "language_info": {
   "codemirror_mode": {
    "name": "ipython",
    "version": 3
   },
   "file_extension": ".py",
   "mimetype": "text/x-python",
   "name": "python",
   "nbconvert_exporter": "python",
   "pygments_lexer": "ipython3",
   "version": "3.7.3"
  }
 },
 "nbformat": 4,
 "nbformat_minor": 2
}
