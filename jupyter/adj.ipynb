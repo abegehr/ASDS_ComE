{
 "cells": [
  {
   "cell_type": "code",
   "execution_count": 1,
   "metadata": {},
   "outputs": [],
   "source": [
    "import numpy as np\n",
    "from scipy import stats"
   ]
  },
  {
   "cell_type": "code",
   "execution_count": 2,
   "metadata": {},
   "outputs": [],
   "source": [
    "# load data\n",
    "path = \"data/graphs/\"\n",
    "\n",
    "edges1 = np.genfromtxt(path+\"anthrocon_edgelist.csv\", dtype=int, delimiter=',')\n",
    "edges2 = np.genfromtxt(path+\"comiccon2017_edgelist.csv\", dtype=int, delimiter=',')\n",
    "edges3 = np.genfromtxt(path+\"icann2016_edgelist.csv\", dtype=int, delimiter=',')"
   ]
  },
  {
   "cell_type": "code",
   "execution_count": 3,
   "metadata": {},
   "outputs": [
    {
     "data": {
      "text/plain": [
       "array([[ 542,   29],\n",
       "       [ 542,   87],\n",
       "       [ 542,  836],\n",
       "       ...,\n",
       "       [ 151, 1003],\n",
       "       [ 761,  564],\n",
       "       [ 761, 1003]])"
      ]
     },
     "metadata": {},
     "output_type": "display_data"
    },
    {
     "data": {
      "text/plain": [
       "array([[ 745, 1511],\n",
       "       [ 316, 1930],\n",
       "       [  70,   77],\n",
       "       ...,\n",
       "       [1890, 1477],\n",
       "       [1890, 1459],\n",
       "       [1890, 1791]])"
      ]
     },
     "metadata": {},
     "output_type": "display_data"
    },
    {
     "data": {
      "text/plain": [
       "array([[552, 394],\n",
       "       [552, 305],\n",
       "       [552, 916],\n",
       "       ...,\n",
       "       [261, 378],\n",
       "       [261,  18],\n",
       "       [261, 241]])"
      ]
     },
     "metadata": {},
     "output_type": "display_data"
    }
   ],
   "source": [
    "display(edges1)\n",
    "display(edges2)\n",
    "display(edges3)"
   ]
  },
  {
   "cell_type": "code",
   "execution_count": 4,
   "metadata": {},
   "outputs": [
    {
     "data": {
      "text/plain": [
       "DescribeResult(nobs=15788, minmax=(array([1, 0]), array([1056, 1059])), mean=array([523.05776539, 543.65600456]), variance=array([77276.49758143, 91135.41475649]), skewness=array([0.0745417 , 0.01764497]), kurtosis=array([-0.94816993, -1.18612342]))"
      ]
     },
     "metadata": {},
     "output_type": "display_data"
    },
    {
     "data": {
      "text/plain": [
       "DescribeResult(nobs=8203, minmax=(array([0, 0]), array([2493, 2494])), mean=array([1238.76679264, 1239.69937828]), variance=array([499563.34563208, 517456.19808178]), skewness=array([0.00912743, 0.0083117 ]), kurtosis=array([-1.15662223, -1.17622111]))"
      ]
     },
     "metadata": {},
     "output_type": "display_data"
    },
    {
     "data": {
      "text/plain": [
       "DescribeResult(nobs=17045, minmax=(array([0, 0]), array([1015, 1015])), mean=array([516.46817248, 507.649868  ]), variance=array([82645.83689179, 86726.58333796]), skewness=array([-0.086726  , -0.01514735]), kurtosis=array([-1.14439861, -1.19235445]))"
      ]
     },
     "metadata": {},
     "output_type": "display_data"
    }
   ],
   "source": [
    "display(stats.describe(edges1))\n",
    "display(stats.describe(edges2))\n",
    "display(stats.describe(edges3))"
   ]
  },
  {
   "cell_type": "code",
   "execution_count": 5,
   "metadata": {},
   "outputs": [],
   "source": [
    "def adjacency_matrix_from_edges(edges):\n",
    "    n = np.amax(edges) + 1\n",
    "    adj_matrix = np.zeros((n, n))\n",
    "    \n",
    "    for [A, B] in edges:\n",
    "        adj_matrix[A][B] += 1\n",
    "    \n",
    "    return adj_matrix"
   ]
  },
  {
   "cell_type": "code",
   "execution_count": 6,
   "metadata": {},
   "outputs": [],
   "source": [
    "adj_matrix1 = adjacency_matrix_from_edges(edges1)\n",
    "adj_matrix2 = adjacency_matrix_from_edges(edges2)\n",
    "adj_matrix3 = adjacency_matrix_from_edges(edges3)"
   ]
  },
  {
   "cell_type": "code",
   "execution_count": null,
   "metadata": {},
   "outputs": [],
   "source": []
  }
 ],
 "metadata": {
  "kernelspec": {
   "display_name": "Python 3",
   "language": "python",
   "name": "python3"
  },
  "language_info": {
   "codemirror_mode": {
    "name": "ipython",
    "version": 3
   },
   "file_extension": ".py",
   "mimetype": "text/x-python",
   "name": "python",
   "nbconvert_exporter": "python",
   "pygments_lexer": "ipython3",
   "version": "3.7.3"
  }
 },
 "nbformat": 4,
 "nbformat_minor": 2
}
