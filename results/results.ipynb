{
 "cells": [
  {
   "cell_type": "code",
   "execution_count": 113,
   "metadata": {},
   "outputs": [],
   "source": [
    "import pandas as pd\n"
   ]
  },
  {
   "cell_type": "code",
   "execution_count": 114,
   "metadata": {},
   "outputs": [],
   "source": [
    "# settings\n",
    "dim = 4"
   ]
  },
  {
   "cell_type": "code",
   "execution_count": 115,
   "metadata": {},
   "outputs": [],
   "source": [
    "# load results\n",
    "df = pd.read_csv(\n",
    "    \"./twitter_alpha-0.1_beta-0.1_ws-10_neg-5_lr-0.025_icom-62_ind-62_k-7_ds-0.0.txt\",\n",
    "    sep=\"\\t\",\n",
    "    header=None,\n",
    "    names=[\"X\"]\n",
    ")\n",
    "\n",
    "# load labels\n",
    "labels = pd.read_csv(\n",
    "    \"./twitter.labels\",\n",
    "    sep=\"\\t\",\n",
    "    header=None,\n",
    "    names=[\"y\"]\n",
    ")"
   ]
  },
  {
   "cell_type": "code",
   "execution_count": 116,
   "metadata": {},
   "outputs": [],
   "source": [
    "# split dimensions\n",
    "df = df.join(df[\"X\"].str.split(\" \", n = dim, expand = True), rsuffix=\"x\")\n",
    "\n",
    "# join labels\n",
    "df = df.join(labels)\n",
    "\n",
    "# rename columns \n",
    "df = df.rename(columns=dict((i, \"x\"+str(i)) for i in range(dim)))\n",
    "\n",
    "# set types\n",
    "for i in range(dim):\n",
    "    df[\"x\"+ str(i)] = df[\"x\" + str(i)].astype(float)\n",
    "df[\"y\"] = df[\"y\"].astype(int)\n"
   ]
  },
  {
   "cell_type": "code",
   "execution_count": 117,
   "metadata": {},
   "outputs": [
    {
     "data": {
      "text/html": [
       "<div>\n",
       "<style scoped>\n",
       "    .dataframe tbody tr th:only-of-type {\n",
       "        vertical-align: middle;\n",
       "    }\n",
       "\n",
       "    .dataframe tbody tr th {\n",
       "        vertical-align: top;\n",
       "    }\n",
       "\n",
       "    .dataframe thead th {\n",
       "        text-align: right;\n",
       "    }\n",
       "</style>\n",
       "<table border=\"1\" class=\"dataframe\">\n",
       "  <thead>\n",
       "    <tr style=\"text-align: right;\">\n",
       "      <th></th>\n",
       "      <th>x0</th>\n",
       "      <th>x1</th>\n",
       "      <th>x2</th>\n",
       "      <th>x3</th>\n",
       "      <th>y</th>\n",
       "    </tr>\n",
       "  </thead>\n",
       "  <tbody>\n",
       "    <tr>\n",
       "      <th>count</th>\n",
       "      <td>2495.000000</td>\n",
       "      <td>2495.000000</td>\n",
       "      <td>2495.000000</td>\n",
       "      <td>2495.000000</td>\n",
       "      <td>2495.000000</td>\n",
       "    </tr>\n",
       "    <tr>\n",
       "      <th>mean</th>\n",
       "      <td>0.684424</td>\n",
       "      <td>0.478790</td>\n",
       "      <td>0.382459</td>\n",
       "      <td>-0.687081</td>\n",
       "      <td>2.211222</td>\n",
       "    </tr>\n",
       "    <tr>\n",
       "      <th>std</th>\n",
       "      <td>0.684940</td>\n",
       "      <td>0.527378</td>\n",
       "      <td>0.560899</td>\n",
       "      <td>0.536026</td>\n",
       "      <td>1.707769</td>\n",
       "    </tr>\n",
       "    <tr>\n",
       "      <th>min</th>\n",
       "      <td>-0.375446</td>\n",
       "      <td>-1.065460</td>\n",
       "      <td>-2.248750</td>\n",
       "      <td>-3.735260</td>\n",
       "      <td>0.000000</td>\n",
       "    </tr>\n",
       "    <tr>\n",
       "      <th>25%</th>\n",
       "      <td>0.202869</td>\n",
       "      <td>0.117874</td>\n",
       "      <td>0.145573</td>\n",
       "      <td>-0.965226</td>\n",
       "      <td>2.000000</td>\n",
       "    </tr>\n",
       "    <tr>\n",
       "      <th>50%</th>\n",
       "      <td>0.531222</td>\n",
       "      <td>0.437165</td>\n",
       "      <td>0.384565</td>\n",
       "      <td>-0.638598</td>\n",
       "      <td>2.000000</td>\n",
       "    </tr>\n",
       "    <tr>\n",
       "      <th>75%</th>\n",
       "      <td>1.048600</td>\n",
       "      <td>0.794229</td>\n",
       "      <td>0.741995</td>\n",
       "      <td>-0.346967</td>\n",
       "      <td>2.000000</td>\n",
       "    </tr>\n",
       "    <tr>\n",
       "      <th>max</th>\n",
       "      <td>7.693060</td>\n",
       "      <td>4.719260</td>\n",
       "      <td>2.323030</td>\n",
       "      <td>1.265760</td>\n",
       "      <td>7.000000</td>\n",
       "    </tr>\n",
       "  </tbody>\n",
       "</table>\n",
       "</div>"
      ],
      "text/plain": [
       "                x0           x1           x2           x3            y\n",
       "count  2495.000000  2495.000000  2495.000000  2495.000000  2495.000000\n",
       "mean      0.684424     0.478790     0.382459    -0.687081     2.211222\n",
       "std       0.684940     0.527378     0.560899     0.536026     1.707769\n",
       "min      -0.375446    -1.065460    -2.248750    -3.735260     0.000000\n",
       "25%       0.202869     0.117874     0.145573    -0.965226     2.000000\n",
       "50%       0.531222     0.437165     0.384565    -0.638598     2.000000\n",
       "75%       1.048600     0.794229     0.741995    -0.346967     2.000000\n",
       "max       7.693060     4.719260     2.323030     1.265760     7.000000"
      ]
     },
     "metadata": {},
     "output_type": "display_data"
    },
    {
     "data": {
      "text/html": [
       "<div>\n",
       "<style scoped>\n",
       "    .dataframe tbody tr th:only-of-type {\n",
       "        vertical-align: middle;\n",
       "    }\n",
       "\n",
       "    .dataframe tbody tr th {\n",
       "        vertical-align: top;\n",
       "    }\n",
       "\n",
       "    .dataframe thead th {\n",
       "        text-align: right;\n",
       "    }\n",
       "</style>\n",
       "<table border=\"1\" class=\"dataframe\">\n",
       "  <thead>\n",
       "    <tr style=\"text-align: right;\">\n",
       "      <th></th>\n",
       "      <th>X</th>\n",
       "      <th>x0</th>\n",
       "      <th>x1</th>\n",
       "      <th>x2</th>\n",
       "      <th>x3</th>\n",
       "      <th>y</th>\n",
       "    </tr>\n",
       "  </thead>\n",
       "  <tbody>\n",
       "    <tr>\n",
       "      <th>0</th>\n",
       "      <td>0.200339 0.931012 0.285464 -0.689365</td>\n",
       "      <td>0.200339</td>\n",
       "      <td>0.931012</td>\n",
       "      <td>0.285464</td>\n",
       "      <td>-0.689365</td>\n",
       "      <td>6</td>\n",
       "    </tr>\n",
       "    <tr>\n",
       "      <th>1</th>\n",
       "      <td>0.513859 0.909619 0.348804 -0.329911</td>\n",
       "      <td>0.513859</td>\n",
       "      <td>0.909619</td>\n",
       "      <td>0.348804</td>\n",
       "      <td>-0.329911</td>\n",
       "      <td>4</td>\n",
       "    </tr>\n",
       "    <tr>\n",
       "      <th>2</th>\n",
       "      <td>0.220539 1.09661 0.161531 -0.621415</td>\n",
       "      <td>0.220539</td>\n",
       "      <td>1.096610</td>\n",
       "      <td>0.161531</td>\n",
       "      <td>-0.621415</td>\n",
       "      <td>6</td>\n",
       "    </tr>\n",
       "    <tr>\n",
       "      <th>3</th>\n",
       "      <td>0.0591839 0.43559 0.688594 -1.03164</td>\n",
       "      <td>0.059184</td>\n",
       "      <td>0.435590</td>\n",
       "      <td>0.688594</td>\n",
       "      <td>-1.031640</td>\n",
       "      <td>2</td>\n",
       "    </tr>\n",
       "    <tr>\n",
       "      <th>4</th>\n",
       "      <td>0.130965 1.31155 0.380458 -0.578007</td>\n",
       "      <td>0.130965</td>\n",
       "      <td>1.311550</td>\n",
       "      <td>0.380458</td>\n",
       "      <td>-0.578007</td>\n",
       "      <td>5</td>\n",
       "    </tr>\n",
       "  </tbody>\n",
       "</table>\n",
       "</div>"
      ],
      "text/plain": [
       "                                      X        x0        x1        x2  \\\n",
       "0  0.200339 0.931012 0.285464 -0.689365  0.200339  0.931012  0.285464   \n",
       "1  0.513859 0.909619 0.348804 -0.329911  0.513859  0.909619  0.348804   \n",
       "2   0.220539 1.09661 0.161531 -0.621415  0.220539  1.096610  0.161531   \n",
       "3   0.0591839 0.43559 0.688594 -1.03164  0.059184  0.435590  0.688594   \n",
       "4   0.130965 1.31155 0.380458 -0.578007  0.130965  1.311550  0.380458   \n",
       "\n",
       "         x3  y  \n",
       "0 -0.689365  6  \n",
       "1 -0.329911  4  \n",
       "2 -0.621415  6  \n",
       "3 -1.031640  2  \n",
       "4 -0.578007  5  "
      ]
     },
     "metadata": {},
     "output_type": "display_data"
    }
   ],
   "source": [
    "display(df.describe())\n",
    "display(df.head())"
   ]
  },
  {
   "cell_type": "code",
   "execution_count": 122,
   "metadata": {},
   "outputs": [
    {
     "data": {
      "text/plain": [
       "<matplotlib.axes._subplots.AxesSubplot at 0x11c734240>"
      ]
     },
     "execution_count": 122,
     "metadata": {},
     "output_type": "execute_result"
    },
    {
     "data": {
      "image/png": "[encoded data removed]",
      "text/plain": [
       "<Figure size 432x288 with 2 Axes>"
      ]
     },
     "metadata": {
      "needs_background": "light"
     },
     "output_type": "display_data"
    }
   ],
   "source": [
    "# plot all Xs in 2D\n",
    "for in in range(dim):\n",
    "    for j in range(dim):\n",
    "        df.plot(x=\"x\", y=\"x2\", c=\"y\", kind=\"scatter\", colormap='gist_rainbow')"
   ]
  },
  {
   "cell_type": "code",
   "execution_count": null,
   "metadata": {},
   "outputs": [],
   "source": []
  }
 ],
 "metadata": {
  "kernelspec": {
   "display_name": "Python 3",
   "language": "python",
   "name": "python3"
  },
  "language_info": {
   "codemirror_mode": {
    "name": "ipython",
    "version": 3
   },
   "file_extension": ".py",
   "mimetype": "text/x-python",
   "name": "python",
   "nbconvert_exporter": "python",
   "pygments_lexer": "ipython3",
   "version": "3.7.3"
  }
 },
 "nbformat": 4,
 "nbformat_minor": 2
}
