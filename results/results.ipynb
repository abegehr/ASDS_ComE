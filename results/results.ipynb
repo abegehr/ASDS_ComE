{
 "cells": [
  {
   "cell_type": "code",
   "execution_count": 1,
   "metadata": {},
   "outputs": [],
   "source": [
    "import numpy as np\n",
    "import os\n",
    "import utils.graph_utils as graph_utils\n",
    "import utils.IO_utils as io_utils\n",
    "import utils.plot_utils as plot_utils\n",
    "import importlib\n",
    "import matplotlib.pyplot as plt\n",
    "import joblib\n",
    "from sklearn import metrics"
   ]
  },
  {
   "cell_type": "code",
   "execution_count": 2,
   "metadata": {},
   "outputs": [
    {
     "data": {
      "text/plain": [
       "<module 'utils.plot_utils' from '/Users/anton/local/repos/asds/results/utils/plot_utils.py'>"
      ]
     },
     "execution_count": 2,
     "metadata": {},
     "output_type": "execute_result"
    }
   ],
   "source": [
    "# reload module\n",
    "importlib.reload(graph_utils)\n",
    "importlib.reload(io_utils)\n",
    "importlib.reload(plot_utils)"
   ]
  },
  {
   "cell_type": "code",
   "execution_count": 6,
   "metadata": {},
   "outputs": [],
   "source": [
    "input_file = \"anthrocon\"\n",
    "#input_file = \"comiccon2017\"\n",
    "#input_file = \"icann2016\""
   ]
  },
  {
   "cell_type": "code",
   "execution_count": 7,
   "metadata": {},
   "outputs": [],
   "source": [
    "# load graph\n",
    "G = graph_utils.load_csv_edges(os.path.join('./data', input_file, 'twitter' + '.csv'), undirected=True)\n"
   ]
  },
  {
   "cell_type": "code",
   "execution_count": 10,
   "metadata": {},
   "outputs": [
    {
     "data": {
      "text/plain": [
       "array([0, 1, 0, ..., 1, 0, 0])"
      ]
     },
     "metadata": {},
     "output_type": "display_data"
    }
   ],
   "source": [
    "# load labels_true\n",
    "labels_true, k = io_utils.load_ground_true(file_name=input_file+\"/twitter\")\n",
    "labels_true = np.array(labels_true)\n",
    "\n",
    "display(labels_true)"
   ]
  },
  {
   "cell_type": "code",
   "execution_count": 12,
   "metadata": {},
   "outputs": [],
   "source": [
    "# load labels_pred\n",
    "labels_pred = np.loadtxt('./data/'+input_file+'/labels_pred.txt').astype(int)"
   ]
  },
  {
   "cell_type": "code",
   "execution_count": 17,
   "metadata": {},
   "outputs": [
    {
     "data": {
      "text/plain": [
       "array([[-0.19118799, -1.12738001],\n",
       "       [ 0.38234001, -0.79779202],\n",
       "       [-0.00678613, -1.03595996],\n",
       "       ..., \n",
       "       [ 0.774526  , -0.82578701],\n",
       "       [ 0.0311986 , -1.03365004],\n",
       "       [-0.50114   , -1.25586998]], dtype=float32)"
      ]
     },
     "metadata": {},
     "output_type": "display_data"
    }
   ],
   "source": [
    "# load embeddings\n",
    "node_embedding = io_utils.load_embedding(input_file+\"/twitter_alpha-0.1_beta-5_ws-10_neg-5_lr-0.025_icom-62_ind-62_k-2_ds-0.0\")\n",
    "\n",
    "display(node_embedding)"
   ]
  },
  {
   "cell_type": "code",
   "execution_count": 19,
   "metadata": {},
   "outputs": [],
   "source": [
    "# plot graph\n",
    "\n",
    "#plot_utils.graph_plot(G, \"graph\")"
   ]
  },
  {
   "cell_type": "code",
   "execution_count": 20,
   "metadata": {},
   "outputs": [],
   "source": [
    "# plot node space 2D\n",
    "\n",
    "plot_utils.node_space_plot_2D(node_embedding, labels_pred)"
   ]
  },
  {
   "cell_type": "code",
   "execution_count": 23,
   "metadata": {},
   "outputs": [],
   "source": [
    "# load g_mixture\n",
    "g_mixture = joblib.load('./data/'+input_file+'/g_mixture.joblib') "
   ]
  },
  {
   "cell_type": "code",
   "execution_count": 24,
   "metadata": {},
   "outputs": [
    {
     "name": "stdout",
     "output_type": "stream",
     "text": [
      "labels_true:  [0 1 0 ..., 1 0 0]\n",
      "labels_pred:  [0 1 0 ..., 0 0 0]\n"
     ]
    }
   ],
   "source": [
    "print(\"labels_true: \", labels_true)\n",
    "print(\"labels_pred: \", labels_pred)"
   ]
  },
  {
   "cell_type": "code",
   "execution_count": 25,
   "metadata": {},
   "outputs": [
    {
     "name": "stdout",
     "output_type": "stream",
     "text": [
      "labels_true:\n"
     ]
    },
    {
     "data": {
      "text/plain": [
       "(array([709,   0,   0,   0,   0,   0,   0,   0,   0, 351]),\n",
       " array([ 0. ,  0.1,  0.2,  0.3,  0.4,  0.5,  0.6,  0.7,  0.8,  0.9,  1. ]))"
      ]
     },
     "metadata": {},
     "output_type": "display_data"
    },
    {
     "name": "stdout",
     "output_type": "stream",
     "text": [
      "labels_pred:\n"
     ]
    },
    {
     "data": {
      "text/plain": [
       "(array([911,   0,   0,   0,   0,   0,   0,   0,   0, 149]),\n",
       " array([ 0. ,  0.1,  0.2,  0.3,  0.4,  0.5,  0.6,  0.7,  0.8,  0.9,  1. ]))"
      ]
     },
     "metadata": {},
     "output_type": "display_data"
    }
   ],
   "source": [
    "print(\"labels_true:\")\n",
    "display(np.histogram(labels_true))\n",
    "\n",
    "print(\"labels_pred:\")\n",
    "display(np.histogram(labels_pred))"
   ]
  },
  {
   "cell_type": "code",
   "execution_count": 27,
   "metadata": {},
   "outputs": [
    {
     "data": {
      "text/plain": [
       "0.00070290216313934658"
      ]
     },
     "execution_count": 27,
     "metadata": {},
     "output_type": "execute_result"
    }
   ],
   "source": [
    "# NMI\n",
    "\n",
    "metrics.normalized_mutual_info_score(labels_true, labels_pred)"
   ]
  },
  {
   "cell_type": "code",
   "execution_count": null,
   "metadata": {},
   "outputs": [],
   "source": []
  }
 ],
 "metadata": {
  "kernelspec": {
   "display_name": "Python [conda env:BICE]",
   "language": "python",
   "name": "conda-env-BICE-py"
  },
  "language_info": {
   "codemirror_mode": {
    "name": "ipython",
    "version": 3
   },
   "file_extension": ".py",
   "mimetype": "text/x-python",
   "name": "python",
   "nbconvert_exporter": "python",
   "pygments_lexer": "ipython3",
   "version": "3.6.1"
  }
 },
 "nbformat": 4,
 "nbformat_minor": 2
}
